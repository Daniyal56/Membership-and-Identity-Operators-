{
 "cells": [
  {
   "cell_type": "markdown",
   "metadata": {},
   "source": [
    "# Python Membership and Identity Operators | in, not in, is, is not Python Membership and Identity Operators | in, not in, is, is not"
   ]
  },
  {
   "cell_type": "code",
   "execution_count": 1,
   "metadata": {},
   "outputs": [
    {
     "name": "stdout",
     "output_type": "stream",
     "text": [
      "Not Overlapping\n",
      "Overlapping\n",
      "Not Overlapping\n",
      "Overlapping\n",
      "Overlapping\n",
      "Not Overlapping\n"
     ]
    }
   ],
   "source": [
    "list_1 = [1,2,3,4,5,6]\n",
    "list_2 = [4,5,8,11,2]\n",
    "for x in list_1:\n",
    "    if x in list_2:\n",
    "        print('Overlapping')\n",
    "        \n",
    "    else:\n",
    "        print('Not Overlapping')"
   ]
  },
  {
   "cell_type": "code",
   "execution_count": 4,
   "metadata": {},
   "outputs": [
    {
     "name": "stdout",
     "output_type": "stream",
     "text": [
      "Overlapping\n",
      "Overlapping\n",
      "Overlapping\n",
      "Not Overlapping\n"
     ]
    }
   ],
   "source": [
    "list_1 = [1,2,3,4,5,6]\n",
    "list_2 = [4,5,6,10,11]\n",
    "for x in list_1:\n",
    "    if x in list_2:\n",
    "        print('Overlapping')\n",
    "        \n",
    "else:\n",
    "    print('Not Overlapping')"
   ]
  },
  {
   "cell_type": "code",
   "execution_count": 24,
   "metadata": {},
   "outputs": [
    {
     "name": "stdout",
     "output_type": "stream",
     "text": [
      "overlapping\n"
     ]
    }
   ],
   "source": [
    "def overlapping(list1,list2):\n",
    "    \n",
    "    x=0\n",
    "    y=0\n",
    "    \n",
    "    for i in list1:\n",
    "        x += 1\n",
    "    for i in list2:\n",
    "        y += 1\n",
    "        \n",
    "    for i in range(0,x):\n",
    "        for j in range(0,y):\n",
    "            if(list1[i]==list2[j]):\n",
    "                return 1\n",
    "    return 0\n",
    "\n",
    "list1 = [1,2,3,4,5]\n",
    "list2 = [1,2,3,4,5,6]\n",
    "if(overlapping(list1,list2)):\n",
    "    print('overlapping')\n",
    "else:\n",
    "    print('Not overlapping')"
   ]
  },
  {
   "cell_type": "code",
   "execution_count": 26,
   "metadata": {},
   "outputs": [
    {
     "name": "stdout",
     "output_type": "stream",
     "text": [
      "not overlapping\n"
     ]
    }
   ],
   "source": [
    "def overlap(list1,list2):\n",
    "    \n",
    "    x = 0\n",
    "    y = 0\n",
    "    \n",
    "    for i in list1:\n",
    "        x = x + 1\n",
    "    for i in list2:\n",
    "        y = y + 1\n",
    "        \n",
    "    for i in range(0,x):\n",
    "        for j in range(0,y):\n",
    "            if (list1[i]==list2[j]):\n",
    "                return 1\n",
    "    return 0\n",
    "\n",
    "list1 = [1,2,3,4,5]\n",
    "list2 = [6,7,8,9,10]\n",
    "if (overlap(list1,list2)):\n",
    "    print(\"overlapping\")\n",
    "else:\n",
    "    print('not overlapping')\n",
    "        \n",
    "        "
   ]
  },
  {
   "cell_type": "markdown",
   "metadata": {},
   "source": [
    "# ‘not in’ operator"
   ]
  },
  {
   "cell_type": "code",
   "execution_count": 28,
   "metadata": {},
   "outputs": [
    {
     "name": "stdout",
     "output_type": "stream",
     "text": [
      "X is available\n",
      "y is not available\n"
     ]
    }
   ],
   "source": [
    "x = 10\n",
    "y = 100\n",
    "\n",
    "list = [10,20,30,40,50]\n",
    "\n",
    "if x not in list:\n",
    "    print('x is not Available')\n",
    "else:\n",
    "    print('X is available')\n",
    "    \n",
    "if y not in list:\n",
    "    print('y is not available')\n",
    "else:\n",
    "    print('Y is available')"
   ]
  },
  {
   "cell_type": "markdown",
   "metadata": {},
   "source": [
    "# is not’ operator"
   ]
  },
  {
   "cell_type": "code",
   "execution_count": 39,
   "metadata": {},
   "outputs": [
    {
     "name": "stdout",
     "output_type": "stream",
     "text": [
      "The statement is true\n"
     ]
    }
   ],
   "source": [
    "x = 5.2\n",
    "\n",
    "if type(x) is not int:\n",
    "    print('The statement is true')\n",
    "else:\n",
    "    print('The statement is False')"
   ]
  },
  {
   "cell_type": "code",
   "execution_count": null,
   "metadata": {},
   "outputs": [],
   "source": []
  },
  {
   "cell_type": "code",
   "execution_count": null,
   "metadata": {},
   "outputs": [],
   "source": []
  }
 ],
 "metadata": {
  "kernelspec": {
   "display_name": "Python 3",
   "language": "python",
   "name": "python3"
  },
  "language_info": {
   "codemirror_mode": {
    "name": "ipython",
    "version": 3
   },
   "file_extension": ".py",
   "mimetype": "text/x-python",
   "name": "python",
   "nbconvert_exporter": "python",
   "pygments_lexer": "ipython3",
   "version": "3.7.3"
  }
 },
 "nbformat": 4,
 "nbformat_minor": 2
}
